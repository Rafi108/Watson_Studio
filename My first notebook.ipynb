{
    "cells": [
        {
            "cell_type": "markdown",
            "metadata": {},
            "source": "# My Jupyter Notebook on IBM Watson Studio\n\n## Peer-graded Asignment: IBM Tools for Data Science "
        },
        {
            "cell_type": "markdown",
            "metadata": {},
            "source": "**Rafal Radecki**\nCivil Engineer / Project Manager"
        },
        {
            "cell_type": "markdown",
            "metadata": {},
            "source": "*I am* civil engineer *learning **Data Science** because I love data and want to work as* data scientist *in the field of civil and environmental engineering*"
        },
        {
            "cell_type": "markdown",
            "metadata": {},
            "source": "### print text code"
        },
        {
            "cell_type": "code",
            "execution_count": 1,
            "metadata": {},
            "outputs": [
                {
                    "name": "stdout",
                    "output_type": "stream",
                    "text": "Hello World\n"
                }
            ],
            "source": "print (\"Hello World\")"
        },
        {
            "cell_type": "markdown",
            "metadata": {},
            "source": "### simple addition and multiplification"
        },
        {
            "cell_type": "code",
            "execution_count": 3,
            "metadata": {},
            "outputs": [
                {
                    "data": {
                        "text/plain": "7"
                    },
                    "execution_count": 3,
                    "metadata": {},
                    "output_type": "execute_result"
                }
            ],
            "source": "1+2*3"
        },
        {
            "cell_type": "markdown",
            "metadata": {},
            "source": "Sample bullet list:\n* sample 1\n* sample 2\n* sample 3\n\nNumbered list:\n1. number 1\n2. number 2\n3. number 3\n\n|Date      |Author       |Version|\n|:--------:|:------------|:-----:|\n|30/12/2020|Rafal Radecki|`0.01`|"
        }
    ],
    "metadata": {
        "kernelspec": {
            "display_name": "Python 3.7",
            "language": "python",
            "name": "python3"
        },
        "language_info": {
            "codemirror_mode": {
                "name": "ipython",
                "version": 3
            },
            "file_extension": ".py",
            "mimetype": "text/x-python",
            "name": "python",
            "nbconvert_exporter": "python",
            "pygments_lexer": "ipython3",
            "version": "3.7.9"
        }
    },
    "nbformat": 4,
    "nbformat_minor": 1
}