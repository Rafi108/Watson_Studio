{
    "cells": [
        {
            "cell_type": "markdown",
            "metadata": {},
            "source": "# This is my first Jupyter notebook on Watson Studio\n\n## Peer-graded Asignment: IBM Tools for Data Science \n\n### Rafal Radecki\n\n*I am learning **Data Science** because I love data and civil engineering / environment*\n\n"
        },
        {
            "cell_type": "markdown",
            "metadata": {},
            "source": "|Date      |Author       |Version|\n|:--------:|:------------|:-----:|\n|30/12/2020|Rafal Radecki|0.01|"
        },
        {
            "cell_type": "markdown",
            "metadata": {},
            "source": "## Sample code"
        },
        {
            "cell_type": "code",
            "execution_count": 1,
            "metadata": {},
            "outputs": [
                {
                    "name": "stdout",
                    "output_type": "stream",
                    "text": "Hello World\n"
                }
            ],
            "source": "print (\"Hello World\")"
        },
        {
            "cell_type": "code",
            "execution_count": 3,
            "metadata": {},
            "outputs": [
                {
                    "data": {
                        "text/plain": "7"
                    },
                    "execution_count": 3,
                    "metadata": {},
                    "output_type": "execute_result"
                }
            ],
            "source": "1+2*3"
        }
    ],
    "metadata": {
        "kernelspec": {
            "display_name": "Python 3.7",
            "language": "python",
            "name": "python3"
        },
        "language_info": {
            "codemirror_mode": {
                "name": "ipython",
                "version": 3
            },
            "file_extension": ".py",
            "mimetype": "text/x-python",
            "name": "python",
            "nbconvert_exporter": "python",
            "pygments_lexer": "ipython3",
            "version": "3.7.9"
        }
    },
    "nbformat": 4,
    "nbformat_minor": 1
}